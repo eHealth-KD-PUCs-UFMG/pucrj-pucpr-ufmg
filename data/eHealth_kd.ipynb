{
 "cells": [
  {
   "cell_type": "markdown",
   "metadata": {
    "id": "A_xjK7tchyA1"
   },
   "source": [
    "Importando as Dependências"
   ]
  },
  {
   "cell_type": "code",
   "execution_count": 37,
   "metadata": {
    "colab": {
     "base_uri": "https://localhost:8080/"
    },
    "id": "9w0lhBxPgXWT",
    "outputId": "7c38812e-b6fb-439e-90e9-9e7e191cc45d"
   },
   "outputs": [
    {
     "name": "stderr",
     "output_type": "stream",
     "text": [
      "[nltk_data] Downloading package punkt to\n",
      "[nltk_data]     /Users/thiagocastroferreira/nltk_data...\n",
      "[nltk_data]   Package punkt is already up-to-date!\n"
     ]
    },
    {
     "data": {
      "text/plain": [
       "True"
      ]
     },
     "execution_count": 37,
     "metadata": {},
     "output_type": "execute_result"
    }
   ],
   "source": [
    "import os\n",
    "import copy\n",
    "# os.chdir('corpora')\n",
    "\n",
    "from scripts.anntools import Collection\n",
    "from pathlib import Path\n",
    "\n",
    "import nltk\n",
    "nltk.download('punkt')"
   ]
  },
  {
   "cell_type": "markdown",
   "metadata": {
    "id": "zc1rjzihh2vC"
   },
   "source": [
    "Leitura de Arquivo"
   ]
  },
  {
   "cell_type": "code",
   "execution_count": 38,
   "metadata": {
    "id": "FLC3TDtxgn69"
   },
   "outputs": [],
   "source": [
    "c = Collection()\n",
    "\n",
    "for fname in Path(\"original/training/\").rglob(\"*.txt\"):\n",
    "  c.load(fname)"
   ]
  },
  {
   "cell_type": "markdown",
   "metadata": {
    "id": "NFILQCA4h4nw"
   },
   "source": [
    "Acesso a uma instância anotada"
   ]
  },
  {
   "cell_type": "code",
   "execution_count": 39,
   "metadata": {
    "colab": {
     "base_uri": "https://localhost:8080/"
    },
    "id": "B1M2lp2rhr3m",
    "outputId": "d6de92c7-0c8c-4ed2-c7e7-c1296069bd20"
   },
   "outputs": [
    {
     "data": {
      "text/plain": [
       "Sentence(text='La presencia del gen de células falciformes y otro normal se denomina rasgo drepanocítico.', keyphrases=[Keyphrase(text='presencia', label='Action', id=1, attr=[]), Keyphrase(text='gen', label='Concept', id=2, attr=[]), Keyphrase(text='gen de células falciformes', label='Concept', id=3, attr=[]), Keyphrase(text='normal', label='Concept', id=4, attr=[]), Keyphrase(text='rasgo drepanocítico', label='Concept', id=5, attr=[])], relations=[Relation(from='gen', to='normal', label='in-context'), Relation(from='presencia', to='gen de células falciformes', label='subject'), Relation(from='presencia', to='rasgo drepanocítico', label='same-as'), Relation(from='presencia', to='gen', label='subject')])"
      ]
     },
     "execution_count": 39,
     "metadata": {},
     "output_type": "execute_result"
    }
   ],
   "source": [
    "c.sentences[0]"
   ]
  },
  {
   "cell_type": "markdown",
   "metadata": {
    "id": "ONvg1H08h9ph"
   },
   "source": [
    "Acesso ao texto de uma instância"
   ]
  },
  {
   "cell_type": "code",
   "execution_count": 40,
   "metadata": {
    "colab": {
     "base_uri": "https://localhost:8080/",
     "height": 53
    },
    "id": "RJrpIYaOhR1U",
    "outputId": "8acb92f6-349f-4a28-dde7-e4d2d8c5e5f3"
   },
   "outputs": [
    {
     "data": {
      "text/plain": [
       "'La presencia del gen de células falciformes y otro normal se denomina rasgo drepanocítico.'"
      ]
     },
     "execution_count": 40,
     "metadata": {},
     "output_type": "execute_result"
    }
   ],
   "source": [
    "c.sentences[0].text"
   ]
  },
  {
   "cell_type": "markdown",
   "metadata": {
    "id": "IIQWMwXfiAW-"
   },
   "source": [
    "Acesso às entidades nomeadas de uma instância"
   ]
  },
  {
   "cell_type": "code",
   "execution_count": 41,
   "metadata": {
    "colab": {
     "base_uri": "https://localhost:8080/"
    },
    "id": "J1UqavOKgrxf",
    "outputId": "331f24fa-2a3c-467e-8246-6a98ab0b4343"
   },
   "outputs": [
    {
     "data": {
      "text/plain": [
       "[Keyphrase(text='presencia', label='Action', id=1, attr=[]),\n",
       " Keyphrase(text='gen', label='Concept', id=2, attr=[]),\n",
       " Keyphrase(text='gen de células falciformes', label='Concept', id=3, attr=[]),\n",
       " Keyphrase(text='normal', label='Concept', id=4, attr=[]),\n",
       " Keyphrase(text='rasgo drepanocítico', label='Concept', id=5, attr=[])]"
      ]
     },
     "execution_count": 41,
     "metadata": {},
     "output_type": "execute_result"
    }
   ],
   "source": [
    "c.sentences[0].keyphrases"
   ]
  },
  {
   "cell_type": "markdown",
   "metadata": {
    "id": "334-HebFiDz7"
   },
   "source": [
    "Acesso às relações anotadas de uma instância"
   ]
  },
  {
   "cell_type": "code",
   "execution_count": 42,
   "metadata": {
    "colab": {
     "base_uri": "https://localhost:8080/"
    },
    "id": "ANOz6ctqg4g1",
    "outputId": "a811396e-65dc-4661-b2b0-1b3d65e1cb46"
   },
   "outputs": [
    {
     "data": {
      "text/plain": [
       "[Relation(from='gen', to='normal', label='in-context'),\n",
       " Relation(from='presencia', to='gen de células falciformes', label='subject'),\n",
       " Relation(from='presencia', to='rasgo drepanocítico', label='same-as'),\n",
       " Relation(from='presencia', to='gen', label='subject')]"
      ]
     },
     "execution_count": 42,
     "metadata": {},
     "output_type": "execute_result"
    }
   ],
   "source": [
    "c.sentences[0].relations"
   ]
  },
  {
   "cell_type": "markdown",
   "metadata": {
    "id": "bH3RSvfOkfbJ"
   },
   "source": [
    "Pré-processando os Dados"
   ]
  },
  {
   "cell_type": "code",
   "execution_count": 43,
   "metadata": {
    "id": "iDq_QsiDhlBp"
   },
   "outputs": [],
   "source": [
    "def extract_keyphrases(keyphrases, text):\n",
    "    tags = {}\n",
    "    for keyphrase in sorted(keyphrases, key=lambda x: len(x.text)):\n",
    "        ktext = keyphrase.text\n",
    "        ktokens = [text[s[0]:s[1]] for s in keyphrase.spans]\n",
    "\n",
    "        # casos contínuos\n",
    "        idxs, ponteiro = [], 0\n",
    "        for i, token in enumerate(tokens):\n",
    "            if token == ktokens[ponteiro]:\n",
    "                idxs.append(i)\n",
    "                ponteiro += 1\n",
    "            else:\n",
    "                idxs, ponteiro = [], 0\n",
    "\n",
    "            if ponteiro == len(ktokens):\n",
    "                break\n",
    "                \n",
    "        if len(ktokens) != len(idxs):\n",
    "            idxs, ponteiro = [], 0\n",
    "            for i, token in enumerate(tokens):\n",
    "                if token == ktokens[ponteiro]:\n",
    "                    idxs.append(i)\n",
    "                    ponteiro += 1\n",
    "\n",
    "                if ponteiro == len(ktokens):\n",
    "                    break\n",
    "\n",
    "        error = False\n",
    "        if len(ktokens) != len(idxs):\n",
    "            error = True\n",
    "\n",
    "        tags[keyphrase.id] = {\n",
    "            'text': ktext,\n",
    "            'idxs': idxs,\n",
    "            'tokens': [text[s[0]:s[1]] for s in keyphrase.spans],\n",
    "            'attributes': [attr.__repr__() for attr in keyphrase.attributes],\n",
    "            'spans': keyphrase.spans,\n",
    "            'label': keyphrase.label,\n",
    "            'id': keyphrase.id,\n",
    "            'error': error\n",
    "        }\n",
    "    return tags\n",
    "\n",
    "data = []\n",
    "for instance in c.sentences:\n",
    "    text = instance.text\n",
    "    tokens = nltk.word_tokenize(text.replace('–', ' – '), language='spanish')\n",
    "\n",
    "    keyphrases = extract_keyphrases(instance.keyphrases, text)\n",
    "\n",
    "    relations = []\n",
    "    for relation in instance.relations:\n",
    "        relations.append({ \n",
    "            'arg1': relation.origin,\n",
    "            'arg2': relation.destination,\n",
    "            'label': relation.label \n",
    "          })\n",
    "\n",
    "    data.append({\n",
    "      'text': text,\n",
    "      'tokens': tokens,\n",
    "      'keyphrases': keyphrases,\n",
    "      'relations': relations\n",
    "    })"
   ]
  },
  {
   "cell_type": "markdown",
   "metadata": {},
   "source": [
    "Separando dados e salvando"
   ]
  },
  {
   "cell_type": "code",
   "execution_count": 44,
   "metadata": {
    "id": "mJqVk_P3k0-r"
   },
   "outputs": [],
   "source": [
    "from random import shuffle\n",
    "\n",
    "shuffle(data)"
   ]
  },
  {
   "cell_type": "code",
   "execution_count": 45,
   "metadata": {},
   "outputs": [],
   "source": [
    "size = int(len(data)*0.2)\n",
    "trainset, _set = data[size:], data[:size]\n",
    "\n",
    "size = int(len(_set)*0.5)\n",
    "devset, testset = _set[size:], _set[:size]"
   ]
  },
  {
   "cell_type": "code",
   "execution_count": 46,
   "metadata": {},
   "outputs": [],
   "source": [
    "import json\n",
    "\n",
    "if not os.path.exists('preprocessed'):\n",
    "    os.mkdir('preprocessed')\n",
    "\n",
    "json.dump(trainset, open('preprocessed/trainset.json', 'w'), sort_keys=True, indent=4, separators=(',', ':'))\n",
    "json.dump(devset, open('preprocessed/devset.json', 'w'), sort_keys=True, indent=4, separators=(',', ':'))\n",
    "json.dump(testset, open('preprocessed/testset.json', 'w'), sort_keys=True, indent=4, separators=(',', ':'))"
   ]
  },
  {
   "cell_type": "code",
   "execution_count": 47,
   "metadata": {},
   "outputs": [
    {
     "name": "stdout",
     "output_type": "stream",
     "text": [
      "{'text': 'exámenes de laboratorio', 'idxs': [17, 21, 22], 'tokens': ['exámenes', 'de', 'laboratorio'], 'attributes': [], 'spans': [(106, 114), (129, 131), (132, 143)], 'label': 'Concept', 'id': 2155, 'error': False}\n",
      "['El', 'doctor', 'diagnosticará', 'la', 'endocarditis', 'basándose', 'en', 'sus', 'factores', 'de', 'riesgo', ',', 'historia', 'clínica', ',', 'síntomas', 'y', 'exámenes', 'del', 'corazón', 'y', 'de', 'laboratorio', '.']\n",
      "\n",
      "{'text': 'agencia de inteligencia', 'idxs': [24, 26, 27], 'tokens': ['agencia', 'de', 'inteligencia'], 'attributes': [], 'spans': [(168, 175), (183, 185), (186, 198)], 'label': 'Concept', 'id': 3135, 'error': False}\n",
      "['Los', 'talibanes', 'rápidamente', 'se', 'atribuyeron', 'responsabilidad', 'por', 'la', 'explosión', ',', 'afirmando', 'que', 'el', 'atacante', 'tenía', 'como', 'objetivo', 'dos', 'minibuses', 'que', 'transportaban', 'personal', 'de', 'la', 'agencia', 'afgana', 'de', 'inteligencia', 'y', 'que', '38', 'de', 'ellos', 'fueron', 'asesinados', '.']\n",
      "\n",
      "{'text': 'colitis ulcerosa', 'idxs': [28, 31], 'tokens': ['colitis', 'ulcerosa'], 'attributes': [], 'spans': [(192, 199), (213, 221)], 'label': 'Concept', 'id': 6741, 'error': False}\n",
      "['Existen', 'muchas', 'causas', 'posibles', 'de', 'hemorragia', 'gastrointestinal', ',', 'entre', 'ellas', 'se', 'encuentran', 'hemorroides', ',', 'úlceras', 'pépticas', ',', 'desgarres', 'o', 'inflamación', 'en', 'el', 'esófago', ',', 'diverticulosis', 'y', 'diverticulitis', ',', 'colitis', 'ulcerativa', 'o', 'ulcerosa', 'y', 'enfermedad', 'de', 'Crohn', ',', 'pólipos', 'del', 'colon', 'o', 'cáncer', 'de', 'colon', ',', 'estómago', 'o', 'esófago', '.']\n",
      "\n",
      "{'text': 'cáncer de esófago', 'idxs': [41, 42, 47], 'tokens': ['cáncer', 'de', 'esófago'], 'attributes': [], 'spans': [(265, 271), (272, 274), (293, 300)], 'label': 'Concept', 'id': 6746, 'error': False}\n",
      "['Existen', 'muchas', 'causas', 'posibles', 'de', 'hemorragia', 'gastrointestinal', ',', 'entre', 'ellas', 'se', 'encuentran', 'hemorroides', ',', 'úlceras', 'pépticas', ',', 'desgarres', 'o', 'inflamación', 'en', 'el', 'esófago', ',', 'diverticulosis', 'y', 'diverticulitis', ',', 'colitis', 'ulcerativa', 'o', 'ulcerosa', 'y', 'enfermedad', 'de', 'Crohn', ',', 'pólipos', 'del', 'colon', 'o', 'cáncer', 'de', 'colon', ',', 'estómago', 'o', 'esófago', '.']\n",
      "\n",
      "{'text': 'cáncer de estómago', 'idxs': [41, 42, 45], 'tokens': ['cáncer', 'de', 'estómago'], 'attributes': [], 'spans': [(265, 271), (272, 274), (282, 290)], 'label': 'Concept', 'id': 6745, 'error': False}\n",
      "['Existen', 'muchas', 'causas', 'posibles', 'de', 'hemorragia', 'gastrointestinal', ',', 'entre', 'ellas', 'se', 'encuentran', 'hemorroides', ',', 'úlceras', 'pépticas', ',', 'desgarres', 'o', 'inflamación', 'en', 'el', 'esófago', ',', 'diverticulosis', 'y', 'diverticulitis', ',', 'colitis', 'ulcerativa', 'o', 'ulcerosa', 'y', 'enfermedad', 'de', 'Crohn', ',', 'pólipos', 'del', 'colon', 'o', 'cáncer', 'de', 'colon', ',', 'estómago', 'o', 'esófago', '.']\n",
      "\n",
      "{'text': 'cuadros de tos', 'idxs': [1, 3, 4], 'tokens': ['cuadros', 'de', 'tos'], 'attributes': [], 'spans': [(4, 11), (19, 21), (22, 25)], 'label': 'Concept', 'id': 418, 'error': False}\n",
      "['Los', 'cuadros', 'agudos', 'de', 'tos', 'son', 'los', 'que', 'se', 'adquieren', 'frecuentemente', 'con', 'un', 'resfrío', 'o', 'una', 'gripe', '.']\n",
      "\n",
      "{'text': 'terapia del habla', 'idxs': [7, 12, 13], 'tokens': ['terapia', 'del', 'habla'], 'attributes': [], 'spans': [(45, 52), (75, 78), (79, 84)], 'label': 'Concept', 'id': 2055, 'error': False}\n",
      "['El', 'tratamiento', 'incluye', 'medicinas', ',', 'aparatos', 'y', 'terapia', 'física', ',', 'ocupacional', 'y', 'del', 'habla', '.']\n",
      "\n",
      "{'text': 'terapia ocupacional', 'idxs': [7, 10], 'tokens': ['terapia', 'ocupacional'], 'attributes': [], 'spans': [(45, 52), (61, 72)], 'label': 'Concept', 'id': 2054, 'error': False}\n",
      "['El', 'tratamiento', 'incluye', 'medicinas', ',', 'aparatos', 'y', 'terapia', 'física', ',', 'ocupacional', 'y', 'del', 'habla', '.']\n",
      "\n",
      "{'text': 'enfermedades cardiacas', 'idxs': [5, 8], 'tokens': ['enfermedades', 'cardiacas'], 'attributes': [], 'spans': [(28, 40), (53, 62)], 'label': 'Concept', 'id': 6890, 'error': False}\n",
      "['Entre', 'estos', 'se', 'incluyen', 'las', 'enfermedades', 'pulmonares', ',', 'cardiacas', ',', 'vasculares', ',', 'derrames', 'cerebrales', 'y', 'cataratas', '.']\n",
      "\n",
      "{'text': 'enfermedades vasculares', 'idxs': [5, 10], 'tokens': ['enfermedades', 'vasculares'], 'attributes': [], 'spans': [(28, 40), (64, 74)], 'label': 'Concept', 'id': 6891, 'error': False}\n",
      "['Entre', 'estos', 'se', 'incluyen', 'las', 'enfermedades', 'pulmonares', ',', 'cardiacas', ',', 'vasculares', ',', 'derrames', 'cerebrales', 'y', 'cataratas', '.']\n",
      "\n",
      "{'text': 'domingo 10', 'idxs': [4, 6], 'tokens': ['domingo', '10'], 'attributes': [], 'spans': [(16, 23), (25, 27)], 'label': 'Concept', 'id': 413, 'error': False}\n",
      "['En', 'la', 'noche', 'del', 'domingo', '(', '10', ')', 'el', 'coronel', 'retirado', 'Antonio', 'Rodríguez', 'Buratti', 'se', 'suicidó', 'disparándose', 'a', 'la', 'cabeza', 'en', 'el', 'garage', 'del', 'edificio', 'en', 'que', 'vivía', 'en', 'la', 'capital', 'uruguaya', '.']\n",
      "\n",
      "{'text': 'enfermedades del corazón', 'idxs': [17, 20, 21], 'tokens': ['enfermedades', 'del', 'corazón'], 'attributes': [], 'spans': [(113, 125), (137, 140), (141, 148)], 'label': 'Concept', 'id': 7037, 'error': False}\n",
      "['Los', 'problemas', 'valvulares', 'pueden', 'aparecer', 'al', 'momento', 'del', 'nacimiento', 'o', 'ser', 'consecuencia', 'de', 'infecciones', ',', 'infartos', 'o', 'enfermedades', 'o', 'lesiones', 'del', 'corazón', '.']\n",
      "\n",
      "{'text': 'cuatro semanas', 'idxs': [8, 11], 'tokens': ['cuatro', 'semanas'], 'attributes': [], 'spans': [(57, 63), (71, 78)], 'label': 'Concept', 'id': 3642, 'error': False}\n",
      "['Su', 'bebé', 'recibirá', 'medicamentos', 'contra', 'el', 'VIH/SIDA', 'durante', 'cuatro', 'a', 'seis', 'semanas', 'después', 'del', 'nacimiento', '.']\n",
      "\n",
      "{'text': 'cánceres de mama', 'idxs': [1, 9, 10], 'tokens': ['cánceres', 'de', 'mama'], 'attributes': [], 'spans': [(4, 12), (47, 49), (50, 54)], 'label': 'Concept', 'id': 5792, 'error': False}\n",
      "['Los', 'cánceres', 'más', 'comunes', 'en', 'el', 'embarazo', 'son', 'el', 'de', 'mama', ',', 'de', 'cuello', 'uterino', ',', 'linfoma', 'y', 'melanoma', '.']\n",
      "\n",
      "{'text': 'cánceres de cuello uterino', 'idxs': [1, 9, 13, 14], 'tokens': ['cánceres', 'de', 'cuello', 'uterino'], 'attributes': [], 'spans': [(4, 12), (56, 58), (59, 65), (66, 73)], 'label': 'Concept', 'id': 5793, 'error': False}\n",
      "['Los', 'cánceres', 'más', 'comunes', 'en', 'el', 'embarazo', 'son', 'el', 'de', 'mama', ',', 'de', 'cuello', 'uterino', ',', 'linfoma', 'y', 'melanoma', '.']\n",
      "\n",
      "{'text': 'defecto de nacimiento', 'idxs': [16, 19, 20], 'tokens': ['defecto', 'de', 'nacimiento'], 'attributes': [], 'spans': [(87, 94), (107, 109), (110, 120)], 'label': 'Concept', 'id': 5145, 'error': False}\n",
      "['Si', 'la', 'afecta', 'durante', 'los', 'primeros', 'tres', 'meses', 'del', 'embarazo', ',', 'este', 'riesgo', 'puede', 'causar', 'un', 'defecto', 'congénito', 'o', 'de', 'nacimiento', 'o', 'un', 'aborto', 'espontáneo', '.']\n",
      "\n",
      "{'text': 'pruebas de médula ósea', 'idxs': [7, 8, 12, 13], 'tokens': ['pruebas', 'de', 'médula', 'ósea'], 'attributes': [], 'spans': [(49, 56), (69, 71), (72, 78), (79, 83)], 'label': 'Concept', 'id': 4977, 'error': False}\n",
      "['La', 'leucemia', 'linfocítica', 'aguda', 'se', 'diagnostica', 'con', 'pruebas', 'de', 'sangre', 'y', 'de', 'médula', 'ósea', '.']\n",
      "\n",
      "{'text': 'sistemas muscular', 'idxs': [9, 12], 'tokens': ['sistemas', 'muscular'], 'attributes': [], 'spans': [(47, 55), (66, 74)], 'label': 'Concept', 'id': 5090, 'error': False}\n",
      "['La', 'vitamina', 'D', 'juega', 'un', 'papel', 'importante', 'en', 'los', 'sistemas', 'nervioso', ',', 'muscular', 'e', 'inmunitario', '.']\n",
      "\n",
      "{'text': 'sistemas inmunitario', 'idxs': [9, 14], 'tokens': ['sistemas', 'inmunitario'], 'attributes': [], 'spans': [(47, 55), (77, 88)], 'label': 'Concept', 'id': 5091, 'error': False}\n",
      "['La', 'vitamina', 'D', 'juega', 'un', 'papel', 'importante', 'en', 'los', 'sistemas', 'nervioso', ',', 'muscular', 'e', 'inmunitario', '.']\n",
      "\n",
      "{'text': '20 años', 'idxs': [11, 14], 'tokens': ['20', 'años'], 'attributes': [], 'spans': [(74, 76), (82, 86)], 'label': 'Concept', 'id': 3733, 'error': False}\n",
      "['El', 'cáncer', 'de', 'testículos', 'afecta', 'principalmente', 'a', 'hombres', 'jóvenes', 'entre', 'los', '20', 'y', '39', 'años', '.']\n",
      "\n",
      "{'text': 'uno días', 'idxs': [12, 15], 'tokens': ['uno', 'días'], 'attributes': [], 'spans': [(81, 84), (91, 95)], 'label': 'Concept', 'id': 6857, 'error': False}\n",
      "['La', 'polimialgia', 'reumática', 'responde', 'muy', 'bien', 'al', 'tratamiento', 'y', 'puede', 'desaparecer', 'en', 'uno', 'o', 'dos', 'días', '.']\n",
      "\n",
      "{'text': 'árbol del caucho', 'idxs': [9, 11, 12], 'tokens': ['árbol', 'del', 'caucho'], 'attributes': [], 'spans': [(48, 53), (63, 66), (67, 73)], 'label': 'Concept', 'id': 1378, 'error': False}\n",
      "['El', 'látex', 'es', 'un', 'líquido', 'lechoso', 'que', 'proviene', 'del', 'árbol', 'tropical', 'del', 'caucho', '.']\n",
      "\n",
      "{'text': 'una de cuatro', 'idxs': [2, 3, 5], 'tokens': ['una', 'de', 'cuatro'], 'attributes': [], 'spans': [(9, 12), (13, 15), (21, 27)], 'label': 'Predicate', 'id': 3262, 'error': False}\n",
      "['Cerca', 'de', 'una', 'de', 'cada', 'cuatro', 'personas', 'con', 'VIH', 'en', 'los', 'Estados', 'Unidos', 'es', 'mujer', '.']\n",
      "\n",
      "{'text': 'final de vida', 'idxs': [15, 16, 18], 'tokens': ['final', 'de', 'vida'], 'attributes': [], 'spans': [(87, 92), (93, 95), (99, 103)], 'label': 'Concept', 'id': 7113, 'error': False}\n",
      "['Éstas', 'pueden', 'ayudar', 'a', 'los', 'proveedores', 'de', 'salud', 'y', 'familiares', 'a', 'tomar', 'decisiones', 'para', 'el', 'final', 'de', 'la', 'vida', 'si', 'usted', 'no', 'puede', 'tomarlas', '.']\n",
      "\n",
      "{'text': 'medios de comunicación', 'idxs': [5, 7, 8], 'tokens': ['medios', 'de', 'comunicación'], 'attributes': [], 'spans': [(27, 33), (50, 52), (53, 65)], 'label': 'Concept', 'id': 1268, 'error': False}\n",
      "['El', 'hecho', 'fue', 'condenado', 'por', 'medios', 'internacionales', 'de', 'comunicación', '.']\n",
      "\n",
      "{'text': 'sentidos del olfato', 'idxs': [1, 2, 6], 'tokens': ['sentidos', 'del', 'olfato'], 'attributes': [], 'spans': [(4, 12), (13, 16), (28, 34)], 'label': 'Concept', 'id': 6156, 'error': False}\n",
      "['Los', 'sentidos', 'del', 'gusto', 'y', 'el', 'olfato', 'nos', 'brindan', 'gran', 'placer', '.']\n",
      "\n",
      "{'text': '1 de 2.500', 'idxs': [10, 11, 13], 'tokens': ['1', 'de', '2.500'], 'attributes': [], 'spans': [(55, 56), (57, 59), (65, 70)], 'label': 'Predicate', 'id': 5328, 'error': False}\n",
      "['En', 'los', 'Estados', 'Unidos', ',', 'la', 'CMT', 'afecta', 'aproximadamente', 'a', '1', 'de', 'cada', '2.500', 'personas', '.']\n",
      "\n",
      "{'text': 'sistema muscular', 'idxs': [9, 12], 'tokens': ['sistema', 'muscular'], 'attributes': [], 'spans': [(41, 48), (59, 67)], 'label': 'Concept', 'id': 3176, 'error': False}\n",
      "['La', 'vitamina', 'D', 'también', 'juega', 'un', 'rol', 'en', 'su', 'sistema', 'nervioso', ',', 'muscular', 'e', 'inmunitario', '.']\n",
      "\n",
      "{'text': 'sistema inmunitario', 'idxs': [9, 14], 'tokens': ['sistema', 'inmunitario'], 'attributes': [], 'spans': [(41, 48), (70, 81)], 'label': 'Concept', 'id': 3177, 'error': False}\n",
      "['La', 'vitamina', 'D', 'también', 'juega', 'un', 'rol', 'en', 'su', 'sistema', 'nervioso', ',', 'muscular', 'e', 'inmunitario', '.']\n",
      "\n",
      "{'text': 'Instituto Nacional del Corazón los Pulmones y la Sangre', 'idxs': [16, 17, 18, 19, 21, 22, 23, 24, 25], 'tokens': ['Instituto', 'Nacional', 'del', 'Corazón', 'los', 'Pulmones', 'y', 'la', 'Sangre'], 'attributes': [], 'spans': [(101, 110), (111, 119), (120, 123), (124, 131), (133, 136), (137, 145), (146, 147), (148, 150), (151, 157)], 'label': 'Concept', 'id': 53, 'error': False}\n",
      "['La', 'dieta', 'consiste', 'en', 'un', 'plan', 'de', 'alimentación', 'basado', 'en', 'estudios', 'de', 'investigación', 'patrocinados', 'por', 'el', 'Instituto', 'Nacional', 'del', 'Corazón', ',', 'los', 'Pulmones', 'y', 'la', 'Sangre', '(', 'NHLBI', ')', '.']\n",
      "\n",
      "{'text': 'ozono bueno', 'idxs': [1, 3], 'tokens': ['ozono', 'bueno'], 'attributes': [], 'spans': [(3, 8), (10, 15)], 'label': 'Concept', 'id': 4578, 'error': False}\n",
      "['El', 'ozono', '``', 'bueno', \"''\", 'se', 'encuentra', 'en', 'la', 'naturaleza', 'a', 'aproximadamente', '10', 'a', '30', 'millas', 'sobre', 'la', 'superficie', 'terrestre', '.']\n",
      "\n",
      "{'text': 'cadena de televisión', 'idxs': [1, 3, 4], 'tokens': ['cadena', 'de', 'televisión'], 'attributes': [], 'spans': [(3, 9), (19, 21), (22, 32)], 'label': 'Concept', 'id': 2047, 'error': False}\n",
      "['En', 'cadena', 'nacional', 'de', 'televisión', ',', 'Chinchilla', 'afirmó', 'que', 'la', 'concesión', 'se', 'suspendió', 'por', '``', 'mutuo', 'acuerdo', \"''\", ',', 'sin', 'embargo', 'sus', 'detractores', 'no', 'ven', 'con', 'buenos', 'ojos', 'que', 'el', 'Gobierno', 'pague', 'a', 'la', 'empresa', 'tal', 'cantidad', 'de', 'dinero', ',', 'puesto', 'que', '``', 'no', 'movieron', 'ni', 'una', 'piedra', \"''\", '.']\n",
      "\n",
      "{'text': 'gotas para ojos', 'idxs': [4, 5, 7], 'tokens': ['gotas', 'para', 'ojos'], 'attributes': [], 'spans': [(32, 37), (38, 42), (47, 51)], 'label': 'Concept', 'id': 3821, 'error': False}\n",
      "['Los', 'tratamientos', 'suelen', 'incluir', 'gotas', 'para', 'los', 'ojos', 'y/o', 'cirugía', '.']\n",
      "\n",
      "{'text': 'gammagrafía de tiroides', 'idxs': [9, 10, 12], 'tokens': ['gammagrafía', 'de', 'tiroides'], 'attributes': [], 'spans': [(44, 55), (56, 58), (62, 70)], 'label': 'Concept', 'id': 147, 'error': False}\n",
      "['Un', 'tipo', 'de', 'examen', 'de', 'medicina', 'nuclear', 'es', 'la', 'gammagrafía', 'de', 'la', 'tiroides', '.']\n",
      "\n",
      "{'text': '65 años', 'idxs': [8, 11], 'tokens': ['65', 'años'], 'attributes': [], 'spans': [(47, 49), (55, 59)], 'label': 'Concept', 'id': 188, 'error': False}\n",
      "['Las', 'pruebas', 'se', 'recomiendan', 'a', 'personas', 'de', 'entre', '65', 'y', '75', 'años', 'si', 'tienen', 'antecedentes', 'familiares', 'o', 'si', 'son', 'hombres', 'fumadores', '.']\n",
      "\n",
      "{'text': 'domingo 10', 'idxs': [4, 6], 'tokens': ['domingo', '10'], 'attributes': [], 'spans': [(16, 23), (25, 27)], 'label': 'Concept', 'id': 2828, 'error': False}\n",
      "['En', 'la', 'noche', 'del', 'domingo', '(', '10', ')', 'el', 'coronel', 'retirado', 'Antonio', 'Rodríguez', 'Buratti', 'se', 'suicidó', 'disparándose', 'a', 'la', 'cabeza', 'en', 'el', 'garage', 'del', 'edificio', 'en', 'que', 'vivía', 'en', 'la', 'capital', 'uruguaya', '.']\n",
      "\n",
      "{'text': 'medios de comunicación', 'idxs': [5, 7, 8], 'tokens': ['medios', 'de', 'comunicación'], 'attributes': [], 'spans': [(27, 33), (50, 52), (53, 65)], 'label': 'Concept', 'id': 3103, 'error': False}\n",
      "['El', 'hecho', 'fue', 'condenado', 'por', 'medios', 'internacionales', 'de', 'comunicación', '.']\n",
      "\n",
      "{'text': 'sinusitis crónica', 'idxs': [10, 13], 'tokens': ['sinusitis', 'crónica'], 'attributes': [], 'spans': [(73, 82), (91, 98)], 'label': 'Concept', 'id': 3981, 'error': False}\n",
      "['Alergias', ',', 'problemas', 'nasales', 'y', 'ciertas', 'enfermedades', 'también', 'pueden', 'causar', 'sinusitis', 'aguda', 'y', 'crónica', '.']\n",
      "\n",
      "{'text': 'enfermedades cardíacas', 'idxs': [1, 5], 'tokens': ['enfermedades', 'cardíacas'], 'attributes': [], 'spans': [(4, 16), (30, 39)], 'label': 'Concept', 'id': 5373, 'error': False}\n",
      "['Las', 'enfermedades', 'del', 'corazón', '(', 'cardíacas', ')', 'son', 'la', 'principal', 'causa', 'de', 'muerte', 'en', 'los', 'Estados', 'Unidos', 'y', 'también', 'una', 'causa', 'importante', 'de', 'discapacidad', '.']\n",
      "\n",
      "{'text': 'análisis de orina', 'idxs': [1, 2, 5], 'tokens': ['análisis', 'de', 'orina'], 'attributes': [], 'spans': [(4, 12), (13, 15), (25, 30)], 'label': 'Concept', 'id': 2964, 'error': False}\n",
      "['Los', 'análisis', 'de', 'sangre', 'y', 'orina', 'son', 'la', 'única', 'manera', 'de', 'saber', 'si', 'usted', 'tiene', 'enfermedad', 'renal', '.']\n",
      "\n",
      "{'text': 'uno días', 'idxs': [4, 7], 'tokens': ['uno', 'días'], 'attributes': [], 'spans': [(24, 27), (34, 38)], 'label': 'Concept', 'id': 2477, 'error': False}\n",
      "['El', 'dolor', 'puede', 'comenzar', 'uno', 'o', 'dos', 'días', 'antes', 'de', 'su', 'período', '.']\n",
      "\n"
     ]
    }
   ],
   "source": [
    "for row in trainset:\n",
    "    keyphrases = row['keyphrases']\n",
    "    for kid in keyphrases:\n",
    "        keyphrase = keyphrases[kid]\n",
    "        for i, idx in enumerate(keyphrase['idxs']):\n",
    "            if i > 0:\n",
    "                if keyphrase['idxs'][i-1]+1 != idx:\n",
    "                    print(keyphrase)\n",
    "                    print(row['tokens'])\n",
    "                    print()\n",
    "                    break\n",
    "                    "
   ]
  },
  {
   "cell_type": "code",
   "execution_count": null,
   "metadata": {},
   "outputs": [],
   "source": []
  }
 ],
 "metadata": {
  "colab": {
   "collapsed_sections": [],
   "name": "eHealth-kd.ipynb",
   "provenance": []
  },
  "kernelspec": {
   "display_name": "Python 3",
   "language": "python",
   "name": "python3"
  },
  "language_info": {
   "codemirror_mode": {
    "name": "ipython",
    "version": 3
   },
   "file_extension": ".py",
   "mimetype": "text/x-python",
   "name": "python",
   "nbconvert_exporter": "python",
   "pygments_lexer": "ipython3",
   "version": "3.9.0"
  }
 },
 "nbformat": 4,
 "nbformat_minor": 1
}
